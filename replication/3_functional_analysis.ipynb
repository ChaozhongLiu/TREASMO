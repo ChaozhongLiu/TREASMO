{
 "cells": [
  {
   "cell_type": "code",
   "execution_count": 1,
   "id": "b1c93045-82e7-494e-851a-93dfe0df4bc0",
   "metadata": {},
   "outputs": [
    {
     "name": "stderr",
     "output_type": "stream",
     "text": [
      "/home/chaozhong/miniconda3/lib/python3.10/site-packages/tqdm/auto.py:21: TqdmWarning: IProgress not found. Please update jupyter and ipywidgets. See https://ipywidgets.readthedocs.io/en/stable/user_install.html\n",
      "  from .autonotebook import tqdm as notebook_tqdm\n"
     ]
    }
   ],
   "source": [
    "import os\n",
    "from numba.core.errors import NumbaDeprecationWarning, NumbaPendingDeprecationWarning, NumbaWarning\n",
    "import warnings\n",
    "warnings.simplefilter('ignore', category=NumbaWarning)\n",
    "warnings.simplefilter('ignore', category=NumbaDeprecationWarning)\n",
    "warnings.simplefilter('ignore', category=NumbaPendingDeprecationWarning)\n",
    "\n",
    "import numpy as np\n",
    "import pandas as pd\n",
    "import scanpy as sc\n",
    "import anndata as ad\n",
    "\n",
    "import muon as mu\n",
    "\n",
    "from matplotlib import pyplot as plt"
   ]
  },
  {
   "cell_type": "code",
   "execution_count": 2,
   "id": "67a55b24-9bfa-4ed1-962c-2647fb95e0b5",
   "metadata": {},
   "outputs": [],
   "source": [
    "import treasmo.tl\n",
    "import treasmo.pl"
   ]
  },
  {
   "cell_type": "code",
   "execution_count": 3,
   "id": "bf8e14e6-b338-44a7-8d7a-9e4635080294",
   "metadata": {},
   "outputs": [],
   "source": [
    "markerDf = pd.read_csv('results/HSPC_regulatory_markers.csv')"
   ]
  },
  {
   "cell_type": "markdown",
   "id": "4577a1b0-c10a-4a21-9f56-c80e5832cc2d",
   "metadata": {},
   "source": [
    "##### Save gene list"
   ]
  },
  {
   "cell_type": "code",
   "execution_count": null,
   "id": "fddb8a2e-22a0-4b5e-89b6-91d0ce10e136",
   "metadata": {},
   "outputs": [],
   "source": [
    "for cell_type in ['NeuP', 'MoP', 'MkP', 'MasP', 'HSC', 'EryP']:\n",
    "    genes = markerDf.loc[markerDf['group']==cell_type,'name'].str.split('~').str[0].to_numpy()\n",
    "    genes = np.unique(genes)\n",
    "    outDir = os.path.join(os.getcwd(), 'results/enrichment/', cell_type)\n",
    "    if not os.path.exists(outDir):\n",
    "        os.makedirs(outDir)\n",
    "    outfile = os.path.join(outDir, 'gene_list.txt')\n",
    "    pd.DataFrame(genes).to_csv(outfile, index=False, header=False)"
   ]
  },
  {
   "cell_type": "code",
   "execution_count": 7,
   "id": "85169a0f-10cd-47fd-95ea-2962ca66dc6c",
   "metadata": {},
   "outputs": [],
   "source": [
    "path = ['HSC','5','7','EryP']\n",
    "modules = [0,1,2]\n",
    "inputDir = os.path.join(os.getcwd(), 'results/somModule/', '_'.join(path))\n",
    "for mod in modules:\n",
    "    file_name = os.path.join(inputDir, f'timebin_{mod}.csv')\n",
    "    df = pd.read_csv(file_name, index_col=0)\n",
    "    df.drop(columns=['time'],inplace=True)\n",
    "    genes = df.columns.str.split('~').str[0].to_numpy()\n",
    "    genes = np.unique(genes)\n",
    "    \n",
    "    outDir = os.path.join(os.getcwd(), 'results/enrichment/', '_'.join(path), f'out_{mod}')\n",
    "    if not os.path.exists(outDir):\n",
    "        os.makedirs(outDir)\n",
    "    outfile = os.path.join(outDir, 'gene_list.txt')\n",
    "    pd.DataFrame(genes).to_csv(outfile, index=False, header=False)"
   ]
  },
  {
   "cell_type": "markdown",
   "id": "7306be6a-633f-4dd1-8204-d49fea278e94",
   "metadata": {},
   "source": [
    "##### Run homer"
   ]
  },
  {
   "cell_type": "code",
   "execution_count": null,
   "id": "a3bc266b-ea69-4116-a01f-21ffcd63422c",
   "metadata": {},
   "outputs": [],
   "source": [
    "for cell_type in ['NeuP', 'MoP', 'MkP', 'MasP', 'HSC', 'EryP'][-1:]:\n",
    "    peaks = markerDf.loc[markerDf['group']==cell_type,'name'].str.split('~').str[1].to_numpy()\n",
    "    peaks = np.unique(peaks)\n",
    "    outDir = os.path.join(os.getcwd(), 'results/homer/', cell_type)\n",
    "    if not os.path.exists(outDir):\n",
    "        os.makedirs(outDir)\n",
    "    homer_df = treasmo.tl.run_HOMER_motif(peaks, out_dir=outDir,\n",
    "                                          prefix=cell_type, ref_genome='hg38',\n",
    "                                          homer_path='/home/chaozhong/homer/',\n",
    "                                          split_symbol=[':','-'], size=200)"
   ]
  },
  {
   "cell_type": "code",
   "execution_count": null,
   "id": "209fa6ab-6f7d-4d63-97ac-9b1a49959513",
   "metadata": {},
   "outputs": [],
   "source": [
    "path = ['HSC','5','7','EryP']\n",
    "modules = [0,1,2]\n",
    "inputDir = os.path.join(os.getcwd(), 'results/somModule/', '_'.join(path))\n",
    "for mod in modules[1:]:\n",
    "    file_name = os.path.join(inputDir, f'timebin_{mod}.csv')\n",
    "    df = pd.read_csv(file_name, index_col=0)\n",
    "    df.drop(columns=['time'],inplace=True)\n",
    "    peaks = df.columns.str.split('~').str[1].to_numpy()\n",
    "    peaks = np.unique(peaks)\n",
    "    \n",
    "    outDir = os.path.join(os.getcwd(), 'results/homer/', '_'.join(path), f'out_{mod}')\n",
    "    if not os.path.exists(outDir):\n",
    "        os.makedirs(outDir)\n",
    "    homer_df = treasmo.tl.run_HOMER_motif(peaks, out_dir=outDir,\n",
    "                                          prefix=mod, ref_genome='hg38',\n",
    "                                          homer_path='/home/chaozhong/homer/',\n",
    "                                          split_symbol=[':','-'], size=200)"
   ]
  },
  {
   "cell_type": "markdown",
   "id": "d86e0aa0-88fe-4038-8c0a-b2911ee2277e",
   "metadata": {},
   "source": [
    "### HSPC differentiation key TFs\n",
    "- **MoP**: IRF8, IRF7, TCF4\n",
    "- **NeuP**: SPI1, RUNX1, MAFK **|** CEBPD, CEBPA, CEBPE **|** CEBPA, CEBPD, CEBPE **|** EGR1, CEBPD, FOSB\n",
    "- **MasP**: LMO4, GATA2, NR4A3\n",
    "- **Ery/Mk P**: MYBL2, KLF1, GATA1 **|** KLF1, MYC, GATA1\n",
    "- **EryP**: KLF1, GATA1, NFIA **|** KLF1,HES6, E2F4\n",
    "- **MkP**: GATA2, PBX1, MEIS1\n",
    "\n",
    "PFM downloaded from JASPAR and converted to homer *.motif with treasmo.tl.PFM2Motif()"
   ]
  },
  {
   "cell_type": "code",
   "execution_count": 3,
   "id": "d7c93970-c275-4309-948a-3b2fb03acf64",
   "metadata": {},
   "outputs": [],
   "source": [
    "markerDf = pd.read_csv('results/HSPC_regulatory_markers.csv')\n",
    "peaks = markerDf['name'].str.split('~').str[1].to_numpy()\n",
    "peaks = np.unique(peaks)\n",
    "treasmo.tl.peak2HomerInput(peaks, out_file='results/homer/HSPC_TFs/marker_peaks.txt',\n",
    "                           filetype='peaks',\n",
    "                           split_symbol=[':','-'])"
   ]
  },
  {
   "cell_type": "code",
   "execution_count": 3,
   "id": "52909e81-98ea-43bb-8e21-2b96ed26e862",
   "metadata": {},
   "outputs": [],
   "source": [
    "from glob import glob\n",
    "pfm_list = glob('data/JASPAR/*.jaspar')\n",
    "pfm_name = []\n",
    "for file in pfm_list:\n",
    "    motif_header = open(file, 'r').readline()\n",
    "    motif_header = motif_header.strip('>')\n",
    "    motif_header = motif_header.strip('\\n').split('\\t')[1].split('.')[2]\n",
    "    pfm_name.append(motif_header)\n",
    "pfm_name = [i.replace('::','-') for i in pfm_name]"
   ]
  },
  {
   "cell_type": "code",
   "execution_count": 5,
   "id": "ce3bd84f-ae79-4833-8742-e014873182bc",
   "metadata": {},
   "outputs": [],
   "source": [
    "for i in range(len(pfm_list)):\n",
    "    #print(pfm_list[i])\n",
    "    treasmo.tl.PFM2Motif(pfm_list[i],\n",
    "                         f\"data/JASPAR/{pfm_name[i]}.motif\")"
   ]
  },
  {
   "cell_type": "markdown",
   "id": "7ba26fbc-b997-452c-903c-fffc514c34d8",
   "metadata": {},
   "source": [
    "#### Run Homer to get the MotifScore"
   ]
  },
  {
   "cell_type": "code",
   "execution_count": null,
   "id": "1237ff2c-be1f-44fa-9c11-cb01bcb9cd67",
   "metadata": {},
   "outputs": [],
   "source": [
    "homer_path = '/home/chaozhong/homer/bin/findMotifsGenome.pl'\n",
    "out_dir = '/home/chaozhong/treasmo/results/homer/HSPC_TFs/out/'\n",
    "peaks_file = '/home/chaozhong/treasmo/results/homer/HSPC_TFs/marker_peaks.txt'\n",
    "motif_dir = '/home/chaozhong/treasmo/data/JASPAR/'\n",
    "\n",
    "for i in range(len(pfm_name)):\n",
    "    os.system(f\"{homer_path} {peaks_file} hg38 {motif_dir} -find {motif_dir}{pfm_name[i]}.motif -size 200 > {out_dir}{pfm_name[i]}.peaks.txt\")"
   ]
  },
  {
   "cell_type": "markdown",
   "id": "1c737ba1-eea6-46e9-8f4a-c5d235757db9",
   "metadata": {},
   "source": [
    "#### Summarize the results with heatmap"
   ]
  },
  {
   "cell_type": "code",
   "execution_count": 4,
   "id": "0a4a9a9c-fdcb-4032-9f39-fdbfefc9b5b3",
   "metadata": {},
   "outputs": [],
   "source": [
    "peakDf = pd.read_csv('results/homer/HSPC_TFs/marker_peaks.txt',sep='\\t', header =None)\n",
    "peakDf['peak'] = peakDf[1] + ':' + peakDf[2].astype(str) + '-' + peakDf[3].astype(str)\n",
    "peakDf = peakDf[['peak', 0]]\n",
    "peakDf.columns = ['peak', 'Index']\n",
    "peakDf.index = peakDf['Index']\n",
    "peakDf = peakDf.drop(columns=['Index'])"
   ]
  },
  {
   "cell_type": "code",
   "execution_count": 5,
   "id": "e9df7de5-0dd9-4a49-a0d7-554669c3a839",
   "metadata": {},
   "outputs": [],
   "source": [
    "for motif in pfm_name:\n",
    "    motifDf = pd.read_csv(f'results/homer/HSPC_TFs/out/{motif}.peaks.txt',sep='\\t')\n",
    "    motifDf = motifDf.loc[motifDf['MotifScore'] > 5.0]\n",
    "    motifDf = motifDf.groupby(by='PositionID')[['MotifScore']].max() #.index = motifDf['PositionID']\n",
    "    peakDf[motif] = motifDf['MotifScore']\n",
    "peakDf = peakDf.fillna(0)\n",
    "peakDf[peakDf.columns[1:]] = peakDf[peakDf.columns[1:]].clip(upper=1)\n"
   ]
  },
  {
   "cell_type": "code",
   "execution_count": 6,
   "id": "9722ffd5-e603-426d-aab1-b9a87675ce19",
   "metadata": {},
   "outputs": [],
   "source": [
    "markerDf = pd.read_csv('results/HSPC_regulatory_markers.csv')\n",
    "markerDf['peak'] = markerDf['name'].str.split('~').str[1]\n",
    "cell_types = ['NeuP', 'MoP', 'MkP', 'MasP', 'HSC', 'EryP','2','5','7']\n",
    "i = 0\n",
    "tmp_peaks = markerDf.loc[markerDf['group']==cell_types[i],'peak'].to_numpy()\n",
    "tmp_peaks = np.unique(tmp_peaks)\n",
    "sumDf = pd.DataFrame(peakDf.loc[peakDf['peak'].isin(tmp_peaks),peakDf.columns[1:]].mean(axis=0), columns=[cell_types[i]])\n",
    "\n",
    "for i in range(1,len(cell_types)):\n",
    "    tmp_peaks = markerDf.loc[markerDf['group']==cell_types[i],'peak'].to_numpy()\n",
    "    tmp_peaks = np.unique(tmp_peaks)\n",
    "    sumDf[cell_types[i]] = peakDf.loc[peakDf['peak'].isin(tmp_peaks),peakDf.columns[1:]].mean(axis=0)\n"
   ]
  },
  {
   "cell_type": "code",
   "execution_count": 12,
   "id": "c0820bda-e256-4de9-b58c-f115d9cd213b",
   "metadata": {},
   "outputs": [],
   "source": [
    "sumDf_filt = sumDf.loc[((sumDf[['NeuP', 'MoP', 'MkP', 'MasP', 'EryP']] > 0.2).sum(axis=1))>=1,:].copy()"
   ]
  },
  {
   "cell_type": "code",
   "execution_count": 14,
   "id": "fc1d883f-4300-483f-b4d2-366f9e078fab",
   "metadata": {},
   "outputs": [
    {
     "data": {
      "image/png": "[encoded data removed]",
      "text/plain": [
       "<Figure size 500x600 with 4 Axes>"
      ]
     },
     "metadata": {},
     "output_type": "display_data"
    }
   ],
   "source": [
    "import seaborn as sns\n",
    "sns.clustermap(sumDf_filt.loc[:,['NeuP', 'MoP', 'MkP', 'MasP', 'EryP']], annot=False, cmap='coolwarm',\n",
    "               #z_score=0,\n",
    "               vmin=0, vmax=0.5,\n",
    "               figsize=(5,6))\n",
    "plt.savefig('figures/HSPC_motif_heatmap.pdf')"
   ]
  },
  {
   "cell_type": "code",
   "execution_count": null,
   "id": "079c5e47-f492-4306-8c7b-c9966c7b78be",
   "metadata": {},
   "outputs": [],
   "source": []
  }
 ],
 "metadata": {
  "kernelspec": {
   "display_name": "treasmo",
   "language": "python",
   "name": "treasmo"
  },
  "language_info": {
   "codemirror_mode": {
    "name": "ipython",
    "version": 3
   },
   "file_extension": ".py",
   "mimetype": "text/x-python",
   "name": "python",
   "nbconvert_exporter": "python",
   "pygments_lexer": "ipython3",
   "version": "3.10.12"
  }
 },
 "nbformat": 4,
 "nbformat_minor": 5
}
